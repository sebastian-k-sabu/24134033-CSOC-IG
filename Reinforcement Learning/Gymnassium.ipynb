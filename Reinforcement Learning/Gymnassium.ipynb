{
 "cells": [
  {
   "cell_type": "code",
   "id": "initial_id",
   "metadata": {
    "collapsed": true,
    "ExecuteTime": {
     "end_time": "2025-06-11T17:39:18.274298Z",
     "start_time": "2025-06-11T17:39:15.272159Z"
    }
   },
   "source": [
    "import numpy as np\n",
    "import gymnasium as gym\n",
    "import time\n",
    "\n",
    "env = gym.make('FrozenLake-v1', desc=None, map_name=\"4x4\", is_slippery=True)\n",
    "env = env.unwrapped\n",
    "# Initialize the environment\n",
    "\n",
    "observation, info = env.reset(seed=42)\n",
    "\n",
    "n_states = env.observation_space.n\n",
    "n_actions = env.action_space.n\n",
    "\n",
    "value_space = np.zeros(n_states)\n",
    "#action_space = np.array([[1/2,1/3,1/3,1/2],[1/3,1/4,1/4,1/3],[1/3,1/4,1/4,1/3],[1/2,1/3,1/3,1/2]])\n",
    "action_value_space = np.zeros((n_states, n_actions))\n",
    "reward_space = np.zeros([])\n",
    "policy_space = np.zeros(n_states)\n",
    "for epoch in range(10000):\n",
    "    for state in range(n_states):\n",
    "        q_values = np.zeros(n_actions)\n",
    "        for action in range(n_actions):\n",
    "            for prob,next_state,reward,is_terminal in env.P[state][action]:\n",
    "                q_values[action] += prob * (reward + 0.9*value_space[next_state])\n",
    "        value_space[state] = q_values.max()\n",
    "\n",
    "for state in range(n_states):\n",
    "        q_values = np.zeros(n_actions)\n",
    "        for action in range(n_actions):\n",
    "            for prob,next_state,reward,is_terminal in env.P[state][action]:\n",
    "                q_values[action] += prob * (reward + 0.9*value_space[next_state])\n",
    "        policy_space[state] = np.argmax(q_values)\n",
    "\n",
    "print(value_space)\n",
    "policy_space = np.array(policy_space,dtype=int)\n",
    "#print(policy_space.reshape((4,4)))\n",
    "\n",
    "\n",
    "\n",
    "\n"
   ],
   "outputs": [
    {
     "name": "stdout",
     "output_type": "stream",
     "text": [
      "[0.0688909  0.06141457 0.07440976 0.05580732 0.09185454 0.\n",
      " 0.11220821 0.         0.14543635 0.24749695 0.29961759 0.\n",
      " 0.         0.3799359  0.63902015 0.        ]\n"
     ]
    }
   ],
   "execution_count": 26
  },
  {
   "metadata": {
    "ExecuteTime": {
     "end_time": "2025-06-11T17:39:20.255697Z",
     "start_time": "2025-06-11T17:39:20.247698Z"
    }
   },
   "cell_type": "code",
   "source": [
    "#trail run\n",
    "def run():\n",
    "    state,_ = env.reset()\n",
    "    net_reward = 0\n",
    "    while True:\n",
    "        action = policy_space[state]\n",
    "        state, reward, terminated, truncated,_= env.step(action)\n",
    "        net_reward += reward\n",
    "        if truncated or terminated:\n",
    "            break\n",
    "    return net_reward\n",
    "\n",
    "print(run())\n",
    "\n"
   ],
   "id": "6a5bf59b759a0a71",
   "outputs": [
    {
     "name": "stdout",
     "output_type": "stream",
     "text": [
      "1.0\n"
     ]
    }
   ],
   "execution_count": 27
  },
  {
   "metadata": {
    "ExecuteTime": {
     "end_time": "2025-06-11T17:39:26.699201Z",
     "start_time": "2025-06-11T17:39:26.600665Z"
    }
   },
   "cell_type": "code",
   "source": [
    "sum =0\n",
    "i = 0\n",
    "for i in range(100):\n",
    "    sum += run()\n",
    "print(sum)"
   ],
   "id": "e0780664fb4c0343",
   "outputs": [
    {
     "name": "stdout",
     "output_type": "stream",
     "text": [
      "77.0\n"
     ]
    }
   ],
   "execution_count": 28
  }
 ],
 "metadata": {
  "kernelspec": {
   "display_name": "Python 3",
   "language": "python",
   "name": "python3"
  },
  "language_info": {
   "codemirror_mode": {
    "name": "ipython",
    "version": 2
   },
   "file_extension": ".py",
   "mimetype": "text/x-python",
   "name": "python",
   "nbconvert_exporter": "python",
   "pygments_lexer": "ipython2",
   "version": "2.7.6"
  }
 },
 "nbformat": 4,
 "nbformat_minor": 5
}
